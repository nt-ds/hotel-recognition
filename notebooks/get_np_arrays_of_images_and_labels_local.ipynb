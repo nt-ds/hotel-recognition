{
 "cells": [
  {
   "cell_type": "code",
   "execution_count": 1,
   "metadata": {
    "colab": {
     "base_uri": "https://localhost:8080/",
     "height": 122
    },
    "colab_type": "code",
    "id": "wpvzp1OcL1UL",
    "outputId": "51120425-4637-420e-c485-2cab9d9cf862"
   },
   "outputs": [],
   "source": [
    "# from google.colab import drive\n",
    "# drive.mount('/content/drive')"
   ]
  },
  {
   "cell_type": "markdown",
   "metadata": {
    "colab_type": "text",
    "id": "oRD997yXINEq"
   },
   "source": [
    "# Hotel Recognition\n",
    "Aug 31, 2019<br>\n",
    "Ngoc Tran\n",
    "\n",
    "---------------------------------------"
   ]
  },
  {
   "cell_type": "markdown",
   "metadata": {
    "colab_type": "text",
    "id": "L2nJGTZlIzdt"
   },
   "source": [
    "## Import"
   ]
  },
  {
   "cell_type": "code",
   "execution_count": 2,
   "metadata": {
    "colab": {},
    "colab_type": "code",
    "id": "222ydFJMIqZr"
   },
   "outputs": [],
   "source": [
    "import numpy as np\n",
    "import os\n",
    "import pickle"
   ]
  },
  {
   "cell_type": "markdown",
   "metadata": {
    "colab_type": "text",
    "id": "dP06qe_bzZVd"
   },
   "source": [
    "Get the original directory:"
   ]
  },
  {
   "cell_type": "code",
   "execution_count": 3,
   "metadata": {
    "colab": {},
    "colab_type": "code",
    "id": "06gyceRbzZe4"
   },
   "outputs": [],
   "source": [
    "original_path = os.getcwd()"
   ]
  },
  {
   "cell_type": "markdown",
   "metadata": {
    "colab_type": "text",
    "id": "sjC0Mo2UxeBs"
   },
   "source": [
    "Change directory to get the source code to get arrays of images:"
   ]
  },
  {
   "cell_type": "code",
   "execution_count": 4,
   "metadata": {
    "colab": {
     "base_uri": "https://localhost:8080/",
     "height": 34
    },
    "colab_type": "code",
    "id": "tUsh5XwjJC5z",
    "outputId": "a57a146e-fb95-49da-ee90-b96a49eda47b"
   },
   "outputs": [
    {
     "name": "stdout",
     "output_type": "stream",
     "text": [
      "/home/nt/Desktop/DS_Fellowship/Projects/Capstone Project/hotel-recognition/src/input_data\n"
     ]
    }
   ],
   "source": [
    "# %cd drive/My\\ Drive/hotel-recognition/src/input_data/\n",
    "%cd ../src/input_data/"
   ]
  },
  {
   "cell_type": "markdown",
   "metadata": {
    "colab_type": "text",
    "id": "pQJZZGfByHt0"
   },
   "source": [
    "More import:"
   ]
  },
  {
   "cell_type": "code",
   "execution_count": 5,
   "metadata": {
    "colab": {},
    "colab_type": "code",
    "id": "a86g8pPJLnVZ"
   },
   "outputs": [],
   "source": [
    "import get_array_of_images_local"
   ]
  },
  {
   "cell_type": "markdown",
   "metadata": {
    "colab_type": "text",
    "id": "heJ944llyTQ8"
   },
   "source": [
    "Change back to the original directory:"
   ]
  },
  {
   "cell_type": "code",
   "execution_count": 6,
   "metadata": {
    "colab": {},
    "colab_type": "code",
    "id": "uTVsSzBIRU9u"
   },
   "outputs": [],
   "source": [
    "os.chdir(original_path)"
   ]
  },
  {
   "cell_type": "markdown",
   "metadata": {
    "colab_type": "text",
    "id": "Fo8xMhhCywTP"
   },
   "source": [
    "## Get arrays of images"
   ]
  },
  {
   "cell_type": "code",
   "execution_count": 7,
   "metadata": {
    "colab": {},
    "colab_type": "code",
    "id": "Z4MFlDRXy_cG"
   },
   "outputs": [],
   "source": [
    "get_array_of_images = get_array_of_images_local.get_array_of_images"
   ]
  },
  {
   "cell_type": "markdown",
   "metadata": {
    "colab_type": "text",
    "id": "uPrAcSTbz8aJ"
   },
   "source": [
    "### training"
   ]
  },
  {
   "cell_type": "code",
   "execution_count": 8,
   "metadata": {
    "colab": {},
    "colab_type": "code",
    "id": "jkdfzfplz_tt"
   },
   "outputs": [],
   "source": [
    "# Two-star hotel chain, Comfort Inn\n",
    "training_images_88 = get_array_of_images(88)\n",
    "\n",
    "# Three-star hotel chain, Best Western\n",
    "training_images_0 = get_array_of_images(0)\n",
    "\n",
    "# Four-star hotel chain, Hilton\n",
    "training_images_3 = get_array_of_images(3)\n",
    "\n",
    "# Five-star hotel chain, Four Seasons\n",
    "training_images_36 = get_array_of_images(36)"
   ]
  },
  {
   "cell_type": "markdown",
   "metadata": {
    "colab_type": "text",
    "id": "4B6Q-9Gt0BQ3"
   },
   "source": [
    "### test"
   ]
  },
  {
   "cell_type": "markdown",
   "metadata": {},
   "source": [
    "unoccluded"
   ]
  },
  {
   "cell_type": "code",
   "execution_count": 9,
   "metadata": {
    "colab": {},
    "colab_type": "code",
    "id": "zT6D3dPTtsq3"
   },
   "outputs": [],
   "source": [
    "# Two-star hotel chain, Comfort Inn\n",
    "test_images_88_un = get_array_of_images(88, False)\n",
    "\n",
    "# Three-star hotel chain, Best Western\n",
    "test_images_0_un = get_array_of_images(0, False)\n",
    "\n",
    "# Four-star hotel chain, Hilton\n",
    "test_images_3_un = get_array_of_images(3, False)\n",
    "\n",
    "# Five-star hotel chain, Four Seasons\n",
    "test_images_36_un = get_array_of_images(36, False)"
   ]
  },
  {
   "cell_type": "markdown",
   "metadata": {},
   "source": [
    "low_occlusions"
   ]
  },
  {
   "cell_type": "code",
   "execution_count": 10,
   "metadata": {
    "colab": {},
    "colab_type": "code",
    "id": "tVERX7MJzFix"
   },
   "outputs": [],
   "source": [
    "# Two-star hotel chain, Comfort Inn\n",
    "test_images_88_low = get_array_of_images(88, False, \"low_occlusions\")\n",
    "\n",
    "# Three-star hotel chain, Best Western\n",
    "test_images_0_low = get_array_of_images(0, False, \"low_occlusions\")\n",
    "\n",
    "# Four-star hotel chain, Hilton\n",
    "test_images_3_low = get_array_of_images(3, False, \"low_occlusions\")\n",
    "\n",
    "# Five-star hotel chain, Four Seasons\n",
    "test_images_36_low = get_array_of_images(36, False, \"low_occlusions\")"
   ]
  },
  {
   "cell_type": "markdown",
   "metadata": {},
   "source": [
    "medium_occlusions"
   ]
  },
  {
   "cell_type": "code",
   "execution_count": 11,
   "metadata": {
    "colab": {},
    "colab_type": "code",
    "id": "1r7RTatD6d5y"
   },
   "outputs": [],
   "source": [
    "# Two-star hotel chain, Comfort Inn\n",
    "test_images_88_med = get_array_of_images(88, False, \"medium_occlusions\")\n",
    "\n",
    "# Three-star hotel chain, Best Western\n",
    "test_images_0_med = get_array_of_images(0, False, \"medium_occlusions\")\n",
    "\n",
    "# Four-star hotel chain, Hilton\n",
    "test_images_3_med = get_array_of_images(3, False, \"medium_occlusions\")\n",
    "\n",
    "# Five-star hotel chain, Four Seasons\n",
    "test_images_36_med = get_array_of_images(36, False, \"medium_occlusions\")"
   ]
  },
  {
   "cell_type": "markdown",
   "metadata": {},
   "source": [
    "high_occlusions"
   ]
  },
  {
   "cell_type": "code",
   "execution_count": 12,
   "metadata": {
    "colab": {},
    "colab_type": "code",
    "id": "ffd0LnYR6iFP"
   },
   "outputs": [],
   "source": [
    "# Two-star hotel chain, Comfort Inn\n",
    "test_images_88_high = get_array_of_images(88, False, \"high_occlusions\")\n",
    "\n",
    "# Three-star hotel chain, Best Western\n",
    "test_images_0_high = get_array_of_images(0, False, \"high_occlusions\")\n",
    "\n",
    "# Four-star hotel chain, Hilton\n",
    "test_images_3_high = get_array_of_images(3, False, \"high_occlusions\")\n",
    "\n",
    "# Five-star hotel chain, Four Seasons\n",
    "test_images_36_high = get_array_of_images(36, False, \"high_occlusions\")"
   ]
  },
  {
   "cell_type": "markdown",
   "metadata": {},
   "source": [
    "## Split numpy arrays of images to get seven training numpy arrays"
   ]
  },
  {
   "cell_type": "code",
   "execution_count": 13,
   "metadata": {},
   "outputs": [],
   "source": [
    "training_images_batch_1 = training_images_88[:len(training_images_88)//2]\n",
    "training_images_batch_2 = training_images_88[len(training_images_88)//2:]"
   ]
  },
  {
   "cell_type": "code",
   "execution_count": 14,
   "metadata": {},
   "outputs": [],
   "source": [
    "training_images_batch_3 = training_images_0[:len(training_images_0)//2]\n",
    "training_images_batch_4 = training_images_0[len(training_images_0)//2:]"
   ]
  },
  {
   "cell_type": "code",
   "execution_count": 15,
   "metadata": {},
   "outputs": [],
   "source": [
    "training_images_batch_5 = training_images_3[:len(training_images_3)//2]\n",
    "training_images_batch_6 = training_images_3[len(training_images_3)//2:]"
   ]
  },
  {
   "cell_type": "markdown",
   "metadata": {
    "colab_type": "text",
    "id": "3tRVkpVR697k"
   },
   "source": [
    "## Combine numpy arrays of images to get four test numpy arrays"
   ]
  },
  {
   "cell_type": "markdown",
   "metadata": {},
   "source": [
    "unoccluded"
   ]
  },
  {
   "cell_type": "code",
   "execution_count": 16,
   "metadata": {},
   "outputs": [],
   "source": [
    "test_images_un = np.array(np.concatenate((test_images_88_un, test_images_0_un,\n",
    "                                          test_images_3_un, test_images_36_un)))"
   ]
  },
  {
   "cell_type": "markdown",
   "metadata": {},
   "source": [
    "low_occlusions"
   ]
  },
  {
   "cell_type": "code",
   "execution_count": 17,
   "metadata": {},
   "outputs": [],
   "source": [
    "test_images_low = np.array(np.concatenate((test_images_88_low, test_images_0_low,\n",
    "                                           test_images_3_low, test_images_36_low)))"
   ]
  },
  {
   "cell_type": "markdown",
   "metadata": {},
   "source": [
    "medium_occlusions"
   ]
  },
  {
   "cell_type": "code",
   "execution_count": 18,
   "metadata": {},
   "outputs": [],
   "source": [
    "test_images_med = np.array(np.concatenate((test_images_88_med, test_images_0_med,\n",
    "                                           test_images_3_med, test_images_36_med)))"
   ]
  },
  {
   "cell_type": "markdown",
   "metadata": {},
   "source": [
    "high_occlusions"
   ]
  },
  {
   "cell_type": "code",
   "execution_count": 19,
   "metadata": {},
   "outputs": [],
   "source": [
    "test_images_high = np.array(np.concatenate((test_images_88_high, test_images_0_high,\n",
    "                                            test_images_3_high, test_images_36_high)))"
   ]
  },
  {
   "cell_type": "markdown",
   "metadata": {},
   "source": [
    "## Create numpy arrays of labels"
   ]
  },
  {
   "cell_type": "markdown",
   "metadata": {},
   "source": [
    "Two-star hotel chain, Comfort Inn     -> 0<br>\n",
    "Three-star hotel chain, Best Western  -> 1<br>\n",
    "Four-star hotel chain, Hilton         -> 2<br>\n",
    "Five-star hotel chain, Four Seasons   -> 3"
   ]
  },
  {
   "cell_type": "markdown",
   "metadata": {},
   "source": [
    "### training"
   ]
  },
  {
   "cell_type": "code",
   "execution_count": 20,
   "metadata": {},
   "outputs": [],
   "source": [
    "tr_ci = [0] * len(training_images_88)\n",
    "tr_bw = [1] * len(training_images_0)\n",
    "tr_h = [2] * len(training_images_3)\n",
    "tr_fs = [3] * len(training_images_36)\n",
    "training_labels = np.array(np.concatenate((tr_ci, tr_bw, tr_h, tr_fs)))"
   ]
  },
  {
   "cell_type": "markdown",
   "metadata": {},
   "source": [
    "### test"
   ]
  },
  {
   "cell_type": "markdown",
   "metadata": {},
   "source": [
    "Check if our test numpy arrays are of the same size:"
   ]
  },
  {
   "cell_type": "code",
   "execution_count": 21,
   "metadata": {},
   "outputs": [
    {
     "name": "stdout",
     "output_type": "stream",
     "text": [
      "388\n",
      "388\n",
      "388\n",
      "388\n",
      "\n",
      "384\n",
      "384\n",
      "384\n",
      "384\n",
      "\n",
      "249\n",
      "249\n",
      "249\n",
      "249\n",
      "\n",
      "25\n",
      "25\n",
      "25\n",
      "25\n"
     ]
    }
   ],
   "source": [
    "print(len(test_images_88_un))\n",
    "print(len(test_images_88_low))\n",
    "print(len(test_images_88_med))\n",
    "print(len(test_images_88_high))\n",
    "print()\n",
    "print(len(test_images_0_un))\n",
    "print(len(test_images_0_low))\n",
    "print(len(test_images_0_med))\n",
    "print(len(test_images_0_high))\n",
    "print()\n",
    "print(len(test_images_3_un))\n",
    "print(len(test_images_3_low))\n",
    "print(len(test_images_3_med))\n",
    "print(len(test_images_3_high))\n",
    "print()\n",
    "print(len(test_images_36_un))\n",
    "print(len(test_images_36_low))\n",
    "print(len(test_images_36_med))\n",
    "print(len(test_images_36_high))"
   ]
  },
  {
   "cell_type": "markdown",
   "metadata": {},
   "source": [
    "Good; we only need one label array for the test sets:"
   ]
  },
  {
   "cell_type": "code",
   "execution_count": 22,
   "metadata": {},
   "outputs": [],
   "source": [
    "t_ci = [0] * len(test_images_88_un)\n",
    "t_bw = [1] * len(test_images_0_un)\n",
    "t_h = [2] * len(test_images_3_un)\n",
    "t_fs = [3] * len(test_images_36_un)\n",
    "test_labels = np.array(np.concatenate((t_ci, t_bw, t_h, t_fs)))"
   ]
  },
  {
   "cell_type": "markdown",
   "metadata": {
    "colab_type": "text",
    "id": "97mAuf0H6ja8"
   },
   "source": [
    "## Save numpy arrays of image and label arrays"
   ]
  },
  {
   "cell_type": "markdown",
   "metadata": {},
   "source": [
    "Change directory to save arrays:"
   ]
  },
  {
   "cell_type": "code",
   "execution_count": 23,
   "metadata": {},
   "outputs": [
    {
     "name": "stdout",
     "output_type": "stream",
     "text": [
      "/home/nt/Desktop/DS_Fellowship/Projects/Capstone Project/hotel-recognition/data/processed\n"
     ]
    }
   ],
   "source": [
    "%cd ../data/processed/"
   ]
  },
  {
   "cell_type": "markdown",
   "metadata": {},
   "source": [
    "Save arrays:"
   ]
  },
  {
   "cell_type": "code",
   "execution_count": 24,
   "metadata": {},
   "outputs": [],
   "source": [
    "# images\n",
    "pickle.dump(training_images_batch_1, open(\"training_images_batch_1.pickle\", \"wb\"))\n",
    "pickle.dump(training_images_batch_2, open(\"training_images_batch_2.pickle\", \"wb\"))\n",
    "pickle.dump(training_images_batch_3, open(\"training_images_batch_3.pickle\", \"wb\"))\n",
    "pickle.dump(training_images_batch_4, open(\"training_images_batch_4.pickle\", \"wb\"))\n",
    "pickle.dump(training_images_batch_5, open(\"training_images_batch_5.pickle\", \"wb\"))\n",
    "pickle.dump(training_images_batch_6, open(\"training_images_batch_6.pickle\", \"wb\"))\n",
    "pickle.dump(training_images_36, open(\"training_images_batch_7.pickle\", \"wb\"))\n",
    "\n",
    "pickle.dump(test_images_un, open(\"test_images_unoccluded.pickle\", \"wb\"))\n",
    "pickle.dump(test_images_low, open(\"test_images_low_occlusions.pickle\", \"wb\"))\n",
    "pickle.dump(test_images_med, open(\"test_images_medium_occlusions.pickle\", \"wb\"))\n",
    "pickle.dump(test_images_high, open(\"test_images_high_occlusions.pickle\", \"wb\"))\n",
    "\n",
    "# labels\n",
    "pickle.dump(training_labels, open(\"training_labels.pickle\", \"wb\"))\n",
    "pickle.dump(test_labels, open(\"test_labels.pickle\", \"wb\"))"
   ]
  },
  {
   "cell_type": "markdown",
   "metadata": {},
   "source": [
    "Change back to the original directory:"
   ]
  },
  {
   "cell_type": "code",
   "execution_count": 25,
   "metadata": {},
   "outputs": [],
   "source": [
    "os.chdir(original_path)"
   ]
  }
 ],
 "metadata": {
  "accelerator": "GPU",
  "colab": {
   "collapsed_sections": [],
   "name": "load_data.ipynb",
   "provenance": [],
   "version": "0.3.2"
  },
  "kernelspec": {
   "display_name": "Python 3",
   "language": "python",
   "name": "python3"
  },
  "language_info": {
   "codemirror_mode": {
    "name": "ipython",
    "version": 3
   },
   "file_extension": ".py",
   "mimetype": "text/x-python",
   "name": "python",
   "nbconvert_exporter": "python",
   "pygments_lexer": "ipython3",
   "version": "3.7.3"
  }
 },
 "nbformat": 4,
 "nbformat_minor": 1
}
